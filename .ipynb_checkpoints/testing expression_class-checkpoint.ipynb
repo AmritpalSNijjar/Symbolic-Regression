{
 "cells": [
  {
   "cell_type": "code",
   "execution_count": 1,
   "id": "d02fbd91",
   "metadata": {},
   "outputs": [],
   "source": [
    "import numpy as np\n",
    "from expression_class import *\n",
    "import datetime\n",
    "from symbolic_regression_loop import *"
   ]
  },
  {
   "cell_type": "code",
   "execution_count": 2,
   "id": "89c9c09a",
   "metadata": {},
   "outputs": [],
   "source": [
    "vars_dict = {\"a\":5, \"b\":1.2}"
   ]
  },
  {
   "cell_type": "code",
   "execution_count": 3,
   "id": "037d38a9",
   "metadata": {},
   "outputs": [
    {
     "name": "stdout",
     "output_type": "stream",
     "text": [
      "original: (6 * exp((sin(a) + (2 / b))))\n",
      "\n"
     ]
    }
   ],
   "source": [
    "var_a = Expression(\"var\", \"a\")\n",
    "var_b = Expression(\"var\", \"b\")\n",
    "\n",
    "twodivb = Expression(\"/\", Expression(\"const\", 2), var_b)\n",
    "\n",
    "sina = Expression(\"sin\", var_a, None)\n",
    "#sina = Expression(\"const\", 5)\n",
    "sinsubtreeone = Expression(\"+\", sina, twodivb)\n",
    "sinexpsubtree = Expression(\"exp\", sinsubtreeone, None)\n",
    "sintree = Expression(\"*\", Expression(\"const\", 6), sinexpsubtree)\n",
    "\n",
    "print(f\"original: {sintree.string_representation()}\\n\")"
   ]
  },
  {
   "cell_type": "code",
   "execution_count": 4,
   "id": "d00c5c5e",
   "metadata": {},
   "outputs": [
    {
     "name": "stdout",
     "output_type": "stream",
     "text": [
      "mutate random sub-node to 5: \n",
      "\n",
      "(6 * exp((sin(a) + (2 / b))))\n",
      "complexity/depth: 9/5\n",
      "\n",
      "(6 * exp((sin(a) + (2 / b))))\n",
      "complexity/depth: 9/5\n",
      "\n",
      "(6 * exp((sin(a) + (2 / b))))\n",
      "complexity/depth: 9/5\n",
      "\n",
      "(6 * exp((sin(a) + (2 / b))))\n",
      "complexity/depth: 9/5\n",
      "\n",
      "(6 * exp((sin(a) + (2 / b))))\n",
      "complexity/depth: 9/5\n",
      "\n",
      "(6 * exp((sin(a) + (2 / b))))\n",
      "complexity/depth: 9/5\n",
      "\n",
      "(6 * exp((sin(a) + (2 / b))))\n",
      "complexity/depth: 9/5\n",
      "\n",
      "(6 * exp((sin(a) + (2 / b))))\n",
      "complexity/depth: 9/5\n",
      "\n",
      "(6 * exp((sin(a) + (2 / b))))\n",
      "complexity/depth: 9/5\n",
      "\n",
      "(6 * exp((sin(a) + (2 / b))))\n",
      "complexity/depth: 9/5\n",
      "\n"
     ]
    }
   ],
   "source": [
    "print(f\"mutate random sub-node to 5: \\n\")\n",
    "\n",
    "for i in range(10):\n",
    "    var_a = Expression(\"var\", \"a\")\n",
    "    var_b = Expression(\"var\", \"b\")\n",
    "\n",
    "    twodivb = Expression(\"/\", Expression(\"const\", 2), var_b)\n",
    "\n",
    "    sina = Expression(\"sin\", var_a, None)\n",
    "    sinsubtreeone = Expression(\"+\", sina, twodivb)\n",
    "    sinexpsubtree = Expression(\"exp\", sinsubtreeone, None)\n",
    "    sintree = Expression(\"*\", Expression(\"const\", 6), sinexpsubtree)\n",
    "    \n",
    "    #sintree.mutate_random_constant()\n",
    "    print(sintree.string_representation())\n",
    "    print(f\"complexity/depth: {sintree.complexity}/{sintree.depth}\\n\")"
   ]
  },
  {
   "cell_type": "code",
   "execution_count": 5,
   "id": "e0a36a12",
   "metadata": {},
   "outputs": [
    {
     "data": {
      "text/plain": [
       "'(6 * exp((sin(a) + (2 / b))))'"
      ]
     },
     "execution_count": 5,
     "metadata": {},
     "output_type": "execute_result"
    }
   ],
   "source": [
    "sintree.string_representation()"
   ]
  },
  {
   "cell_type": "code",
   "execution_count": 6,
   "id": "97e6c80a",
   "metadata": {},
   "outputs": [
    {
     "data": {
      "text/plain": [
       "5"
      ]
     },
     "execution_count": 6,
     "metadata": {},
     "output_type": "execute_result"
    }
   ],
   "source": [
    "sintree.depth"
   ]
  },
  {
   "cell_type": "code",
   "execution_count": 7,
   "id": "c26a08a8",
   "metadata": {},
   "outputs": [
    {
     "data": {
      "text/plain": [
       "9"
      ]
     },
     "execution_count": 7,
     "metadata": {},
     "output_type": "execute_result"
    }
   ],
   "source": [
    "sintree.complexity"
   ]
  },
  {
   "cell_type": "code",
   "execution_count": 8,
   "id": "94c9e17d",
   "metadata": {},
   "outputs": [],
   "source": [
    "#sintree.compute(vars_dict)"
   ]
  },
  {
   "cell_type": "code",
   "execution_count": 9,
   "id": "ec542cbf",
   "metadata": {},
   "outputs": [
    {
     "data": {
      "text/plain": [
       "580076940414351007"
      ]
     },
     "execution_count": 9,
     "metadata": {},
     "output_type": "execute_result"
    }
   ],
   "source": [
    "hash(sintree)"
   ]
  },
  {
   "cell_type": "code",
   "execution_count": 10,
   "id": "f542c947",
   "metadata": {},
   "outputs": [
    {
     "data": {
      "text/plain": [
       "580076940414351007"
      ]
     },
     "execution_count": 10,
     "metadata": {},
     "output_type": "execute_result"
    }
   ],
   "source": [
    "hash(sintree)"
   ]
  },
  {
   "cell_type": "code",
   "execution_count": 11,
   "id": "5c528445",
   "metadata": {},
   "outputs": [
    {
     "data": {
      "text/plain": [
       "9"
      ]
     },
     "execution_count": 11,
     "metadata": {},
     "output_type": "execute_result"
    }
   ],
   "source": [
    "sintree.complexity"
   ]
  },
  {
   "cell_type": "code",
   "execution_count": 12,
   "id": "db0036b4",
   "metadata": {},
   "outputs": [
    {
     "data": {
      "text/plain": [
       "5"
      ]
     },
     "execution_count": 12,
     "metadata": {},
     "output_type": "execute_result"
    }
   ],
   "source": [
    "sintree.depth"
   ]
  },
  {
   "cell_type": "code",
   "execution_count": 13,
   "id": "cbdb2042",
   "metadata": {},
   "outputs": [
    {
     "name": "stdout",
     "output_type": "stream",
     "text": [
      "original: (6 * exp((sin(a) + (2 / b))))\n",
      "\n",
      "mutate random constant: \n",
      "\n",
      "(6 * exp((sin(a) + (-1.7299803420243434 / b))))\n",
      "(6 * exp((sin(a) + (2.0708193678143867 / b))))\n",
      "(6.2715447177794665 * exp((sin(a) + (2 / b))))\n",
      "(-5.9619865607794935 * exp((sin(a) + (2 / b))))\n",
      "(7.036560553052228 * exp((sin(a) + (2 / b))))\n",
      "(6.806260470225718 * exp((sin(a) + (2 / b))))\n",
      "(6 * exp((sin(a) + (1.9380970364739687 / b))))\n",
      "(6 * exp((sin(a) + (1.9693760613585758 / b))))\n",
      "(6 * exp((sin(a) + (-1.8792782269314252 / b))))\n",
      "(-5.286839310148532 * exp((sin(a) + (2 / b))))\n"
     ]
    }
   ],
   "source": [
    "var_a = Expression(\"var\", \"a\")\n",
    "var_b = Expression(\"var\", \"b\")\n",
    "\n",
    "twodivb = Expression(\"/\", Expression(\"const\", 2), var_b)\n",
    "\n",
    "sina = Expression(\"sin\", var_a, None)\n",
    "sinsubtreeone = Expression(\"+\", sina, twodivb)\n",
    "sinexpsubtree = Expression(\"exp\", sinsubtreeone, None)\n",
    "sintree = Expression(\"*\", Expression(\"const\", 6), sinexpsubtree)\n",
    "\n",
    "print(f\"original: {sintree.string_representation()}\\n\")\n",
    "print(f\"mutate random constant: \\n\")\n",
    "\n",
    "for i in range(10):\n",
    "    var_a = Expression(\"var\", \"a\")\n",
    "    var_b = Expression(\"var\", \"b\")\n",
    "\n",
    "    twodivb = Expression(\"/\", Expression(\"const\", 2), var_b)\n",
    "\n",
    "    sina = Expression(\"sin\", var_a, None)\n",
    "    sinsubtreeone = Expression(\"+\", sina, twodivb)\n",
    "    sinexpsubtree = Expression(\"exp\", sinsubtreeone, None)\n",
    "    sintree = Expression(\"*\", Expression(\"const\", 6), sinexpsubtree)\n",
    "    sintree.mutate_random_constant(1/5)\n",
    "    print(sintree.string_representation())"
   ]
  },
  {
   "cell_type": "code",
   "execution_count": 14,
   "id": "f53d0b2f",
   "metadata": {},
   "outputs": [
    {
     "name": "stdout",
     "output_type": "stream",
     "text": [
      "exp((2 * a))\n",
      "exp((2 * a))\n",
      "exp((2 * a))\n",
      "exp((2 * a))\n",
      "exp((2 * a))\n",
      "exp((2 * a))\n",
      "exp((2 * a))\n",
      "exp((2 * a))\n",
      "exp((2 * a))\n",
      "exp((2 * a))\n"
     ]
    }
   ],
   "source": [
    "for i in range(10):\n",
    "    g = Expression(\"exp\", Expression(\"*\", Expression(\"const\", 2),Expression(\"var\", \"a\") ))\n",
    "    #g.set_random_node_to_five()\n",
    "    print(g.string_representation())\n",
    "    #k = g.select_random_node_to_replace(\"any\")\n",
    "    #print(k.operation)\n"
   ]
  },
  {
   "cell_type": "code",
   "execution_count": 15,
   "id": "31ee06f5",
   "metadata": {},
   "outputs": [
    {
     "name": "stdout",
     "output_type": "stream",
     "text": [
      "(((0.9252713861494732 + b) - 0.2479462035176757) * (((0.8364964406978658 * ((b - a) ^ 0.125324016484894)) / (a * 0.06530291092860685)) - (b / 0.9990814695162304)))\n"
     ]
    }
   ],
   "source": [
    "for i in range(1):\n",
    "    a = random_expression(9, [\"a\", \"b\"])\n",
    "    print(a.string_representation())"
   ]
  },
  {
   "cell_type": "code",
   "execution_count": 16,
   "id": "209573fe",
   "metadata": {},
   "outputs": [
    {
     "name": "stdout",
     "output_type": "stream",
     "text": [
      "before (((sin(a) * (3 ^ 2)) * 3) * 0.5)\n",
      "after (13.5 * sin(a))\n"
     ]
    }
   ],
   "source": [
    "test1 = Expression(\"sin\", Expression(\"var\", \"a\"))\n",
    "test2 = Expression(\"*\", test1, Expression(\"^\", Expression(\"const\", 3), Expression(\"const\", 2)))\n",
    "test3 = Expression(\"*\", test2, Expression(\"const\", 3))\n",
    "test_assoc_plus = Expression(\"*\", test3, Expression(\"const\", 0.5))\n",
    "print(\"before\", test_assoc_plus.string_representation())\n",
    "test_assoc_plus = simplify(test_assoc_plus)\n",
    "print(\"after\", test_assoc_plus.string_representation())\n"
   ]
  },
  {
   "cell_type": "code",
   "execution_count": 17,
   "id": "90117adc",
   "metadata": {},
   "outputs": [],
   "source": [
    "import matplotlib.pyplot as plt\n",
    "from scipy.optimize import curve_fit"
   ]
  },
  {
   "cell_type": "code",
   "execution_count": 18,
   "id": "1a8799a8",
   "metadata": {},
   "outputs": [
    {
     "name": "stdout",
     "output_type": "stream",
     "text": [
      "before: (((0.1394334359621201 ^ b) / b) * ((b * 0.4251695115923052) + a)) \n",
      "after : ((((0.10484321924368434 - a) ^ b) / b) * ((b * 0.4251695115923052) + a)) \n",
      "\n",
      "before: (((b * 0.5714205614128636) / (0.20993748656000522 * (a ^ 0.1715460194085544))) + (b / 0.4298302520234921)) \n",
      "after : ((((a * 0.365905784526402) * 0.5714205614128636) / (0.20993748656000522 * (a ^ 0.1715460194085544))) + (b / 0.4298302520234921)) \n",
      "\n",
      "before: (((0.4634522395851818 * (b ^ (a * 0.056642266629003846))) * a) + (0.3563481685369919 * (a ^ 0.1821751070214941))) \n",
      "after : ((((0.9254544394107094 * ((0.2763571086962443 + (a * 0.5825671577142416)) ^ 0.5816818806866562)) * (b ^ (a * 0.056642266629003846))) * a) + (0.3563481685369919 * (a ^ 0.1821751070214941))) \n",
      "\n",
      "before: (((a / 0.13125815532680274) / 0.9174443806164063) + ((0.7429417396343398 + a) - 0.4817816999694108)) \n",
      "after : (((a / 0.13125815532680274) / 0.9174443806164063) + ((a - (0.6036813956864685 * (b ^ 0.2461511143557492))) - 0.4817816999694108)) \n",
      "\n",
      "before: (((a * b) - 0.9753731450775087) * ((0.5920965627239673 - a) - 0.7671192278362976)) \n",
      "after : (((a * b) - 0.9753731450775087) * ((0.9163901375237525 * ((b + a) ^ 0.20408824659832592)) - 0.7671192278362976)) \n",
      "\n",
      "before: (0.7980582060698742 * ((((0.07869281009954299 / b) * b) + b) ^ 0.08815613886598628)) \n",
      "after : (0.7980582060698742 * (((0.29872812148928807 / (0.15935761777915125 * a)) * (a - 0.6345775554952758)) ^ 0.08815613886598628)) \n",
      "\n",
      "before: ((a / ((b + 0.5278697562971906) * 0.7439253733002374)) ^ (b + 0.1234630425061054)) \n",
      "after : ((a / ((a / 0.036468189442231846) * 0.7439253733002374)) ^ (b + 0.1234630425061054)) \n",
      "\n",
      "before: (((0.8797742880066131 ^ a) + a) / ((a / b) * a)) \n",
      "after : ((0.07422175093919492 * (a + (0.8980320315668479 * (b ^ 0.02096788796937743)))) / ((a / b) * a)) \n",
      "\n",
      "before: ((((b * 0.8804368824975238) - (a / b)) ^ b) * a) \n",
      "after : (((((a / b) * a) + 0.8922147332064965) + b) * a) \n",
      "\n",
      "before: ((a - 0.5284905939385904) / (0.8614379830607414 ^ ((0.18327703724217537 + b) - b))) \n",
      "after : ((a - 0.5284905939385904) / ((b + (a / (b * a))) ^ ((0.18327703724217537 + b) - b))) \n",
      "\n",
      "before: (a + (((b * 0.6207139527815054) / b) + (0.4980113454989794 + a))) \n",
      "after : ((b - a) + (((b * 0.6207139527815054) / b) + (0.4980113454989794 + a))) \n",
      "\n",
      "before: (0.44437309578691975 / ((0.43516272023505387 ^ (a + b)) / (0.9837552845768411 / a))) \n",
      "after : (((b + 0.4261467932388996) * ((b + a) ^ (a * b))) / ((0.43516272023505387 ^ (a + b)) / (0.9837552845768411 / a))) \n",
      "\n",
      "before: ((b - a) * (((0.2715414822749276 / a) * a) * 0.4791741136664145)) \n",
      "after : (((0.357663159616873 ^ b) - a) * (((0.2715414822749276 / a) * a) * 0.4791741136664145)) \n",
      "\n",
      "before: ((((a / b) + b) / 0.3626136521702885) * (a + b)) \n",
      "after : (((((b + 0.012814863847433355) / b) + b) / 0.3626136521702885) * (a + b)) \n",
      "\n",
      "before: ((0.39991289676202857 - (b * a)) * (0.800312259625551 + (b * 0.30584688145699057))) \n",
      "after : ((((0.4875148592991745 ^ b) / b) - a) * (0.800312259625551 + (b * 0.30584688145699057))) \n",
      "\n",
      "before: ((b * ((a / b) - (a - b))) * (a ^ 0.5564373923319803)) \n",
      "after : ((b * ((b / (0.9432809510608445 * b)) - (a - b))) * (a ^ 0.5564373923319803)) \n",
      "\n",
      "before: ((0.6359058257245869 * ((a - 0.08440319294549836) ^ (b * 0.1354646367415484))) * (b ^ (a * 0.5781604723648495))) \n",
      "after : ((0.09967020495188494 - (0.4159528733945477 ^ (0.047449275446537986 - b))) * (b ^ (a * 0.5781604723648495))) \n",
      "\n",
      "before: ((((a - 0.5334890425291611) * (b ^ 0.34300999274657884)) / b) * (0.20503469635597205 - b)) \n",
      "after : (((((0.6503742556994261 * a) - 0.5334890425291611) * (b ^ 0.34300999274657884)) / b) * (0.20503469635597205 - b)) \n",
      "\n",
      "before: (0.9392160628307329 * (((b * 0.07267819516224017) / (0.7740953209795942 ^ a)) / 0.005645292389665935)) \n",
      "after : (0.9392160628307329 * (((a * 0.8678778697160029) * (0.6854222661028708 / a)) / 0.005645292389665935)) \n",
      "\n",
      "before: (((a ^ 0.11821579533257431) * (b - a)) + (b / 0.34573239674816103)) \n",
      "after : (((a ^ 0.11821579533257431) * ((0.01486155509559639 - b) - a)) + (b / 0.34573239674816103)) \n",
      "\n",
      "before: (((a / (b + (a - 0.176010268312646))) + a) + b) \n",
      "after : (((a / (b + ((a * b) - 0.176010268312646))) + a) + b) \n",
      "\n",
      "before: ((0.03405788559779699 - a) - ((a / b) - (b - 0.8155004741948977))) \n",
      "after : (((0.9270319513239049 - a) - a) - ((a / b) - (b - 0.8155004741948977))) \n",
      "\n",
      "before: ((a * (0.14339909888125812 ^ a)) / (a * (a * b))) \n",
      "after : ((a * (0.14339909888125812 ^ a)) / ((a / 0.9576828998887672) * (a * b))) \n",
      "\n",
      "before: ((a - (b / 0.43907494440753336)) * ((0.651365883812461 * a) ^ (a + 0.30694801697518814))) \n",
      "after : ((a - (b / 0.43907494440753336)) * ((0.651365883812461 * a) ^ ((a * b) + 0.30694801697518814))) \n",
      "\n",
      "before: ((b + (a / 0.6693466011236558)) * (0.31549302876164775 - (a * b))) \n",
      "after : ((b + ((a * b) / 0.6693466011236558)) * (0.31549302876164775 - (a * b))) \n",
      "\n",
      "before: ((0.30587606789971644 / b) / (b / ((0.8843391494479235 - b) ^ b))) \n",
      "after : ((0.30587606789971644 / b) / (b / (((a - 0.7913220718038136) - b) ^ b))) \n",
      "\n",
      "before: ((((b * 0.016539774774319227) + b) / (0.535018946608491 - b)) - 0.9892524829774053) \n",
      "after : (((0.870457149443132 + (0.06707933151959866 - (b + a))) / (0.535018946608491 - b)) - 0.9892524829774053) \n",
      "\n",
      "before: ((b + 0.034944265695224574) + ((a + (0.5805161525761126 - b)) - b)) \n",
      "after : ((b + 0.034944265695224574) + ((0.5090287322393321 + b) - b)) \n",
      "\n",
      "before: (((a / b) * (a ^ 0.14851939149414983)) - (a + (b / a))) \n",
      "after : (((a / b) * (a ^ 0.14851939149414983)) - (a + ((a / b) / a))) \n",
      "\n",
      "before: (0.5459620769858258 * ((a + b) ^ (((a - 0.9119137267102861) - b) * b))) \n",
      "after : (0.5459620769858258 * ((a + b) ^ ((0.448748701886049 + a) * b))) \n",
      "\n",
      "before: (0.2858233452700345 ^ (((a - b) - (a * 0.7641974985770995)) / 0.1421608248439823)) \n",
      "after : (0.2858233452700345 ^ ((((b * 0.9049899201994243) + 0.07735414793036877) - (a * 0.7641974985770995)) / 0.1421608248439823)) \n",
      "\n",
      "before: (0.6157095823590528 / ((a * (0.7080130398533974 * b)) * ((b / a) ^ 0.5048739757050504))) \n",
      "after : (0.6157095823590528 / (((0.8020036163175571 - (b + 0.32322254120185145)) * (0.7080130398533974 * b)) * ((b / a) ^ 0.5048739757050504))) \n",
      "\n",
      "before: ((0.5111142296935357 * (((0.22942097939535022 * b) + a) ^ (b - 0.21739779615899046))) * 0.3025516271568618) \n",
      "after : ((0.5111142296935357 * (((0.22942097939535022 * b) + a) ^ ((0.160105603522667 / a) - 0.21739779615899046))) * 0.3025516271568618) \n",
      "\n",
      "before: ((a * (b + 0.23176937733890246)) - (0.949698552749271 / (0.5927222991230084 * (a ^ 0.012811986041417645)))) \n",
      "after : ((a * (b + 0.23176937733890246)) - (((a + b) + (0.6531128045354821 * b)) / (0.5927222991230084 * (a ^ 0.012811986041417645)))) \n",
      "\n",
      "before: ((a + ((a - 0.9534652286927758) - b)) / (a * 0.41951758587458665)) \n",
      "after : (((b - 0.9475440748232792) + ((a - 0.9534652286927758) - b)) / (a * 0.41951758587458665)) \n",
      "\n",
      "before: (((b / (b / 0.2225877197038788)) / 0.18034386732112795) + (a - 0.9169237180219982)) \n",
      "after : (((b / ((0.9554927366150769 + b) / 0.2225877197038788)) / 0.18034386732112795) + (a - 0.9169237180219982)) \n",
      "\n",
      "before: ((b ^ (0.5742079297624678 - (0.17235102989533835 - a))) + (0.018562418029735128 ^ a)) \n",
      "after : ((((a + (0.8388088012688174 - b)) / b) ^ (0.5742079297624678 - (0.17235102989533835 - a))) + (0.018562418029735128 ^ a)) \n",
      "\n",
      "before: (((0.30052232772634446 * (a ^ (b / 0.7893646977092742))) + (a / 0.21196804236398414)) * 0.10482193636075154) \n",
      "after : (((0.30052232772634446 * ((a + 0.013590582933170059) ^ (b / 0.7893646977092742))) + (a / 0.21196804236398414)) * 0.10482193636075154) \n",
      "\n",
      "before: ((((0.6042044750227819 * (a ^ (0.11317605246234108 * b))) + 0.7197652852863261) + 0.7625186893209799) + 0.2884202501937462) \n",
      "after : ((((0.6042044750227819 * ((b * 0.2740459635418311) ^ (0.11317605246234108 * b))) + 0.7197652852863261) + 0.7625186893209799) + 0.2884202501937462) \n",
      "\n",
      "before: (a ^ ((b + 0.10296936501875964) * (a / (0.05241549435736814 - a)))) \n",
      "after : (a ^ ((b + 0.10296936501875964) * (a / ((b + a) - a)))) \n",
      "\n",
      "before: (0.724214475724851 ^ (0.04450600989872355 + ((0.9738093388484775 + b) / (b / 0.26375937201931876)))) \n",
      "after : (0.724214475724851 ^ (((0.932584951881955 * b) + (0.8005824192301982 * b)) + ((0.9738093388484775 + b) / (b / 0.26375937201931876)))) \n",
      "\n",
      "before: ((((0.8597062368681009 * a) / 0.25400744449283275) + (b / a)) + a) \n",
      "after : ((((0.8597062368681009 * a) / 0.25400744449283275) + ((0.9962364141896183 * (a ^ 0.4990065610511635)) / a)) + a) \n",
      "\n",
      "before: (a + (((a * 0.6989691318578626) / a) + (a / b))) \n",
      "after : (a + ((((0.5682192167077555 + a) * 0.6989691318578626) / a) + (a / b))) \n",
      "\n",
      "before: (0.04959722823462742 * ((0.33091354889153457 - a) ^ ((0.9831692416943616 + (0.5973709429482578 / a)) * b))) \n",
      "after : (0.04959722823462742 * (((0.8002208790847067 / b) - a) ^ ((0.9831692416943616 + (0.5973709429482578 / a)) * b))) \n",
      "\n",
      "before: ((a / (0.9022394212322733 * a)) - (b - (b / 0.25641780393110847))) \n",
      "after : ((a / (0.9022394212322733 * a)) - (b - ((b / a) / 0.25641780393110847))) \n",
      "\n",
      "before: ((b * ((b + 0.4064930004690218) ^ b)) - (0.8153530784642895 + a)) \n",
      "after : ((b * ((0.4498666337889482 / a) ^ b)) - (0.8153530784642895 + a)) \n",
      "\n",
      "before: (((0.6855530715320822 + b) + 0.7405313536070355) ^ ((0.9654618563518492 - b) / 0.8339814948427513)) \n",
      "after : ((((a * 0.9215600376528508) / a) / a) ^ ((0.9654618563518492 - b) / 0.8339814948427513)) \n",
      "\n",
      "before: ((0.5191829156968425 * (b ^ 0.2587595256615298)) / ((0.8672078141363022 - (0.49671263706933144 * (a ^ 0.8970340432940587))) / 0.36663202230479264)) \n",
      "after : (((b + a) / (0.5186766630199087 * (a ^ 0.3267003041165799))) / ((0.8672078141363022 - (0.49671263706933144 * (a ^ 0.8970340432940587))) / 0.36663202230479264)) \n",
      "\n",
      "before: (0.4093163712678688 - (a * ((b * 0.5263216813046693) / (a * b)))) \n",
      "after : (0.4093163712678688 - (a * ((b * 0.5263216813046693) / ((b + a) * b)))) \n",
      "\n",
      "before: ((a / (b / 0.24835498370462772)) - ((0.06698702525411304 * (a ^ 0.8453883356323386)) * a)) \n",
      "after : ((a / (b / 0.24835498370462772)) - (((0.518571736005743 ^ (b - 0.28796976285967346)) * (a ^ 0.8453883356323386)) * a)) \n",
      "\n"
     ]
    }
   ],
   "source": [
    "for i in range(50):\n",
    "    a = random_expression(5, [\"a\", \"b\"])\n",
    "    print(\"before:\", a.string_representation(),\"\")\n",
    "    a = mutate_expression_form(a, [\"a\", \"b\"])\n",
    "    print(\"after :\", a.string_representation(),\"\\n\")\n",
    "    #a = simplify(a)\n",
    "    #a = simplify(a)\n",
    "    #a = simplify(a)\n",
    "    #print(\"after simplify :\", a.string_representation(),\"\\n\\n\\n\")\n",
    "\n",
    "\n"
   ]
  },
  {
   "cell_type": "code",
   "execution_count": 19,
   "id": "5707b0b1",
   "metadata": {},
   "outputs": [
    {
     "data": {
      "text/plain": [
       "<matplotlib.image.AxesImage at 0x7fad381fc970>"
      ]
     },
     "execution_count": 19,
     "metadata": {},
     "output_type": "execute_result"
    },
    {
     "data": {
      "image/png": "[encoded data removed]",
      "text/plain": [
       "<Figure size 432x288 with 1 Axes>"
      ]
     },
     "metadata": {
      "needs_background": "light"
     },
     "output_type": "display_data"
    }
   ],
   "source": [
    "a_s = np.linspace(0.1, 1, 100)\n",
    "b_s = np.linspace(0.1, 1, 100)\n",
    "\n",
    "g = np.zeros((100,100))\n",
    "\n",
    "for i in range(100):\n",
    "    for j in range(100):\n",
    "        g[i,j] = a.compute({\"a\": a_s[i], \"b\": b_s[j]})\n",
    "\n",
    "\n",
    "plt.imshow(g)"
   ]
  },
  {
   "cell_type": "code",
   "execution_count": 49,
   "id": "3fd63812",
   "metadata": {},
   "outputs": [],
   "source": []
  },
  {
   "cell_type": "code",
   "execution_count": 50,
   "id": "56cc02b1",
   "metadata": {},
   "outputs": [],
   "source": []
  },
  {
   "cell_type": "code",
   "execution_count": null,
   "id": "0e40eba1",
   "metadata": {},
   "outputs": [],
   "source": []
  }
 ],
 "metadata": {
  "kernelspec": {
   "display_name": "Python 3 (ipykernel)",
   "language": "python",
   "name": "python3"
  },
  "language_info": {
   "codemirror_mode": {
    "name": "ipython",
    "version": 3
   },
   "file_extension": ".py",
   "mimetype": "text/x-python",
   "name": "python",
   "nbconvert_exporter": "python",
   "pygments_lexer": "ipython3",
   "version": "3.9.7"
  }
 },
 "nbformat": 4,
 "nbformat_minor": 5
}
